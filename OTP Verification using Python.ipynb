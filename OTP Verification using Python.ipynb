{
 "cells": [
  {
   "cell_type": "code",
   "execution_count": 1,
   "id": "d1509c2d",
   "metadata": {},
   "outputs": [],
   "source": [
    "import random"
   ]
  },
  {
   "cell_type": "code",
   "execution_count": 2,
   "id": "ba8b3377",
   "metadata": {},
   "outputs": [],
   "source": [
    "def generate_otp():\n",
    "    # Generate a 6-digit random OTP\n",
    "    otp = random.randint(100000, 999999)\n",
    "    return otp"
   ]
  },
  {
   "cell_type": "code",
   "execution_count": 3,
   "id": "d9219442",
   "metadata": {},
   "outputs": [],
   "source": [
    "def send_otp(otp, user_email):\n",
    "    # Simulate sending OTP to the user (replace with actual implementation)\n",
    "    print(f\"OTP {otp} sent to {user_email}\")"
   ]
  },
  {
   "cell_type": "code",
   "execution_count": 4,
   "id": "af3f5257",
   "metadata": {},
   "outputs": [],
   "source": [
    "def verify_otp(entered_otp, original_otp):\n",
    "    return entered_otp == original_otp"
   ]
  },
  {
   "cell_type": "code",
   "execution_count": null,
   "id": "4e34a840",
   "metadata": {},
   "outputs": [
    {
     "name": "stdout",
     "output_type": "stream",
     "text": [
      "OTP 643481 sent to user@example.com\n"
     ]
    }
   ],
   "source": [
    "# Simulate user registration with email\n",
    "user_email = \"user@example.com\"\n",
    "\n",
    "# Step 1: Generate OTP\n",
    "otp = generate_otp()\n",
    "\n",
    "# Step 2: Send OTP (simulated)\n",
    "send_otp(otp, user_email)\n",
    "\n",
    "# Simulate user entering OTP (replace with actual user input)\n",
    "entered_otp = int(input(\"Enter the OTP received: \"))\n",
    "\n",
    "# Step 3: Verify OTP\n",
    "if verify_otp(entered_otp, otp):\n",
    "    print(\"OTP verification successful. User is verified.\")\n",
    "else:\n",
    "    print(\"OTP verification failed. User is not verified.\")"
   ]
  },
  {
   "cell_type": "code",
   "execution_count": null,
   "id": "5131020c",
   "metadata": {},
   "outputs": [],
   "source": []
  }
 ],
 "metadata": {
  "kernelspec": {
   "display_name": "Python 3 (ipykernel)",
   "language": "python",
   "name": "python3"
  },
  "language_info": {
   "codemirror_mode": {
    "name": "ipython",
    "version": 3
   },
   "file_extension": ".py",
   "mimetype": "text/x-python",
   "name": "python",
   "nbconvert_exporter": "python",
   "pygments_lexer": "ipython3",
   "version": "3.11.5"
  }
 },
 "nbformat": 4,
 "nbformat_minor": 5
}
